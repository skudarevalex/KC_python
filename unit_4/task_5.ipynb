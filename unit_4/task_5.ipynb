{
 "cells": [
  {
   "cell_type": "code",
   "execution_count": 19,
   "id": "8faaf058",
   "metadata": {},
   "outputs": [
    {
     "name": "stdout",
     "output_type": "stream",
     "text": [
      "2.00e+10\n",
      "19999600002\n"
     ]
    }
   ],
   "source": [
    "def skal(vec1, vec2):\n",
    "    vec_s = []\n",
    "    for i in range(int(1e5)):\n",
    "        vec_s = vec1[i]*vec2[i]\n",
    "        vec_s += vec_s\n",
    "    return vec_s\n",
    "vec1 = list(range(int(1e5)))\n",
    "vec2 = list(range(int(1e5)))\n",
    "skal(vec1,vec2)\n",
    "scientific_notation=\"{:.2e}\".format(skal(vec1,vec2))\n",
    "print(scientific_notation)\n",
    "print(skal(vec1,vec2))"
   ]
  },
  {
   "cell_type": "code",
   "execution_count": 10,
   "id": "c1c61cd9",
   "metadata": {},
   "outputs": [
    {
     "data": {
      "text/plain": [
       "'1.00e+07'"
      ]
     },
     "execution_count": 10,
     "metadata": {},
     "output_type": "execute_result"
    }
   ],
   "source": [
    "a = 10000000\n",
    "a\n",
    "\"{:.2e}\".format(a)"
   ]
  },
  {
   "cell_type": "code",
   "execution_count": 24,
   "id": "1b256a68",
   "metadata": {},
   "outputs": [
    {
     "name": "stdout",
     "output_type": "stream",
     "text": [
      "171 µs ± 34.8 µs per loop (mean ± std. dev. of 7 runs, 1,000 loops each)\n",
      "3.33e+14\n"
     ]
    }
   ],
   "source": [
    "import numpy as np\n",
    "vec1 = np.array(list(range(int(1e5))), dtype='int64')\n",
    "vec2 = np.array(list(range(int(1e5))), dtype='int64')\n",
    "%timeit res = np.dot(vec1, vec2)\n",
    "scientific_notation=\"{:.2e}\".format(res)\n",
    "print(scientific_notation)"
   ]
  }
 ],
 "metadata": {
  "kernelspec": {
   "display_name": "Python 3 (ipykernel)",
   "language": "python",
   "name": "python3"
  },
  "language_info": {
   "codemirror_mode": {
    "name": "ipython",
    "version": 3
   },
   "file_extension": ".py",
   "mimetype": "text/x-python",
   "name": "python",
   "nbconvert_exporter": "python",
   "pygments_lexer": "ipython3",
   "version": "3.11.5"
  }
 },
 "nbformat": 4,
 "nbformat_minor": 5
}
