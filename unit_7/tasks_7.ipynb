{
 "cells": [
  {
   "cell_type": "code",
   "execution_count": 1,
   "id": "24506066",
   "metadata": {},
   "outputs": [],
   "source": [
    "#Задание 1\n",
    "class Triangle:\n",
    "    n_dots = 3\n",
    "    \n",
    "    def __init__(self, a, b, c):\n",
    "        self.a = a\n",
    "        self.b = b\n",
    "        self.c = c"
   ]
  },
  {
   "cell_type": "code",
   "execution_count": 2,
   "id": "e19610f8",
   "metadata": {
    "scrolled": true
   },
   "outputs": [
    {
     "data": {
      "text/plain": [
       "3"
      ]
     },
     "execution_count": 2,
     "metadata": {},
     "output_type": "execute_result"
    }
   ],
   "source": [
    "Triangle.n_dots"
   ]
  },
  {
   "cell_type": "code",
   "execution_count": 6,
   "id": "2ef5ba98",
   "metadata": {},
   "outputs": [
    {
     "data": {
      "text/plain": [
       "5"
      ]
     },
     "execution_count": 6,
     "metadata": {},
     "output_type": "execute_result"
    }
   ],
   "source": [
    "tr_1 = Triangle(3, 4, 5)\n",
    "tr_2 = Triangle(5, 4, 3)\n",
    "tr_2.a"
   ]
  },
  {
   "cell_type": "code",
   "execution_count": 38,
   "id": "8bb4f468",
   "metadata": {},
   "outputs": [],
   "source": [
    "#Задание 2\n",
    "class Triangle:\n",
    "    n_dots = 3\n",
    "    \n",
    "    def __init__(self, a, b, c):\n",
    "        self.a = a\n",
    "        self.b = b\n",
    "        self.c = c\n",
    "        if not((a < b + c) and (b < a + c) and (c < a + b)):\n",
    "            raise ValueError(\"triangle inequality does not hold\")\n",
    "        \n",
    "    def area(self):\n",
    "        p = (self.a+self.b+self.c)/2\n",
    "        s = (p*(p-self.a)*(p-self.b)*(p-self.c))**(1/2)\n",
    "        return s"
   ]
  },
  {
   "cell_type": "code",
   "execution_count": 37,
   "id": "659f3019",
   "metadata": {},
   "outputs": [
    {
     "name": "stdout",
     "output_type": "stream",
     "text": [
      "6.0 26.832815729997478\n"
     ]
    }
   ],
   "source": [
    "tr_1 = Triangle(5, 4, 3)\n",
    "tr_2 = Triangle(7, 9, 8)\n",
    "square_1 = tr_1.area()\n",
    "square_2 = tr_2.area()\n",
    "print(square_1, square_2)"
   ]
  },
  {
   "cell_type": "code",
   "execution_count": 39,
   "id": "21f76c7f",
   "metadata": {},
   "outputs": [],
   "source": [
    "class Rectangle(Triangle):\n",
    "    n_dots = 4\n",
    "    \n",
    "    def __init__(self, a, b):\n",
    "        self.a = a\n",
    "        self.b = b\n",
    "        \n",
    "    def area(self):\n",
    "        s = self.a*self.b\n",
    "        return s"
   ]
  },
  {
   "cell_type": "code",
   "execution_count": 40,
   "id": "351a156b",
   "metadata": {},
   "outputs": [
    {
     "name": "stdout",
     "output_type": "stream",
     "text": [
      "20\n"
     ]
    }
   ],
   "source": [
    "r_1 = Rectangle(5, 4)\n",
    "square_1 = r_1.area()\n",
    "print(square_1)"
   ]
  },
  {
   "cell_type": "code",
   "execution_count": null,
   "id": "87bc5275",
   "metadata": {},
   "outputs": [],
   "source": [
    "#Задание 3\n",
    "\n",
    "class BaseFigure:\n",
    "    n_dots = None\n",
    "    \n",
    "    def area(self):\n",
    "        raise NotImplementedError()\n",
    "    \n",
    "    def validate(self):\n",
    "        raise NotImplementedError()\n",
    "    \n",
    "    def __init__(self):\n",
    "        self.validate()"
   ]
  },
  {
   "cell_type": "code",
   "execution_count": 92,
   "id": "76f15dcb",
   "metadata": {},
   "outputs": [],
   "source": [
    "# Задание 6\n",
    "class BaseFigure:\n",
    "    n_dots = None\n",
    "    \n",
    "    def area(self):\n",
    "        raise NotImplementedError()\n",
    "    \n",
    "    def validate(self):\n",
    "        raise NotImplementedError()\n",
    "    \n",
    "    def __init__(self):\n",
    "        self.validate()\n",
    "        \n",
    "class Triangle(BaseFigure):\n",
    "    n_dots = 3\n",
    "    \n",
    "    def __init__(self, x, y, z):\n",
    "        self.x = x\n",
    "        self.y = y\n",
    "        self.z = z\n",
    "        super().__init__()\n",
    "        \n",
    "    def area(self):\n",
    "        p = (self.x+self.y+self.z)/2\n",
    "        s = (p*(p-self.x)*(p-self.y)*(p-self.z))**(1/2)\n",
    "        return s\n",
    "    \n",
    "    def validate(self):\n",
    "        if not((self.x < self.y + self.z) and (self.y < self.x + self.z) and (self.z < self.x + self.y)):\n",
    "            raise ValueError(\"triangle inequality does not hold\")\n",
    "        else:\n",
    "            return self.x, self.y, self.z\n",
    "    \n",
    "class Rectangle(BaseFigure):\n",
    "    n_dots = 4\n",
    "    \n",
    "    def __init__(self, a, b):\n",
    "        self.a = a\n",
    "        self.b = b\n",
    "        super().__init__()\n",
    "        \n",
    "        \n",
    "    def area(self):\n",
    "        s = self.a*self.b\n",
    "        return s\n",
    "    \n",
    "    def validate(self):\n",
    "        return self.a, self.b"
   ]
  },
  {
   "cell_type": "code",
   "execution_count": 96,
   "id": "452be31d",
   "metadata": {
    "scrolled": true
   },
   "outputs": [
    {
     "data": {
      "text/plain": [
       "(5, 4, 3)"
      ]
     },
     "execution_count": 96,
     "metadata": {},
     "output_type": "execute_result"
    }
   ],
   "source": [
    "r_1 = Triangle(5, 4, 3)\n",
    "square_1 = r_1.validate()\n",
    "square_1"
   ]
  },
  {
   "cell_type": "code",
   "execution_count": 97,
   "id": "6c3639d7",
   "metadata": {},
   "outputs": [],
   "source": [
    "#Задание 7\n",
    "class Circle(BaseFigure):\n",
    "    n_dots = float('inf')\n",
    "    \n",
    "    def __init__(self, r):\n",
    "        self.r = r\n",
    "        super().__init__()\n",
    "    \n",
    "    def area(self):\n",
    "        s = 3.14*(self.r)**2\n",
    "        return s\n",
    "    \n",
    "    def validate(self):\n",
    "        pass"
   ]
  },
  {
   "cell_type": "code",
   "execution_count": 99,
   "id": "83d32d9e",
   "metadata": {},
   "outputs": [
    {
     "data": {
      "text/plain": [
       "inf"
      ]
     },
     "execution_count": 99,
     "metadata": {},
     "output_type": "execute_result"
    }
   ],
   "source": [
    "r_1 = Circle(5)\n",
    "square_1 = r_1.area()\n",
    "square_1\n",
    "Circle.n_dots"
   ]
  },
  {
   "cell_type": "code",
   "execution_count": 205,
   "id": "5e839830",
   "metadata": {},
   "outputs": [],
   "source": [
    "#Задание 8 и 9\n",
    "class Vector:\n",
    "    def __init__(self, coords):\n",
    "        self.coords = coords\n",
    "    \n",
    "    def __add__(self, other):\n",
    "        if len(self.coords) == len(other.coords):\n",
    "            summ = list()\n",
    "            for i in range(0, len(self.coords)):\n",
    "                summ.append(self.coords[i] + other.coords[i])\n",
    "            return Vector(summ)\n",
    "        else:\n",
    "            raise ValueError(f'left and right lengths differ: {len(self.coords)} != {len(other.coords)}')\n",
    "    \n",
    "    def __repr__(self): \n",
    "        return f'Vector({self.coords})'\n",
    "    \n",
    "    def __str__(self): \n",
    "        return f'{self.coords}'"
   ]
  },
  {
   "cell_type": "code",
   "execution_count": 208,
   "id": "4ebc8e08",
   "metadata": {},
   "outputs": [
    {
     "name": "stdout",
     "output_type": "stream",
     "text": [
      "[5, 5, 10]\n"
     ]
    }
   ],
   "source": [
    "print(Vector([1, 2, 3]) + Vector([4, 3, 7]))"
   ]
  },
  {
   "cell_type": "code",
   "execution_count": 206,
   "id": "37f95d45",
   "metadata": {},
   "outputs": [
    {
     "name": "stdout",
     "output_type": "stream",
     "text": [
      "[1, 2, 3]\n"
     ]
    }
   ],
   "source": [
    "print(Vector([1, 2, 3]))"
   ]
  },
  {
   "cell_type": "code",
   "execution_count": 239,
   "id": "16aebfb7",
   "metadata": {},
   "outputs": [],
   "source": [
    "#Задание 10\n",
    "class Vector:\n",
    "    def __init__(self, coords):\n",
    "        self.coords = coords\n",
    "    \n",
    "    def __add__(self, other):\n",
    "        if len(self.coords) == len(other.coords):\n",
    "            summ = list()\n",
    "            for i in range(0, len(self.coords)):\n",
    "                summ.append(self.coords[i] + other.coords[i])\n",
    "            return Vector(summ)\n",
    "        else:\n",
    "            raise ValueError(f'left and right lengths differ: {len(self.coords)} != {len(other.coords)}')\n",
    "            \n",
    "    def __mul__(self, other):\n",
    "        mult = list()\n",
    "        \n",
    "        if isinstance(other, int):\n",
    "            for i in range(0, len(self.coords)):\n",
    "                mult.append(self.coords[i]*other)\n",
    "            return Vector(mult)\n",
    "        \n",
    "        if len(self.coords) == len(other.coords):\n",
    "            for i in range(0, len(self.coords)):\n",
    "                mult.append(self.coords[i]*other.coords[i])\n",
    "            return sum(mult)\n",
    "        else:\n",
    "            raise ValueError(f'left and right lengths differ: {len(self.coords)} != {len(other.coords)}')\n",
    "            \n",
    "    def __repr__(self): \n",
    "        return f'Vector({self.coords})'\n",
    "    \n",
    "    def __str__(self): \n",
    "        return f'{self.coords}'"
   ]
  },
  {
   "cell_type": "code",
   "execution_count": 240,
   "id": "03c22de4",
   "metadata": {},
   "outputs": [
    {
     "data": {
      "text/plain": [
       "31"
      ]
     },
     "execution_count": 240,
     "metadata": {},
     "output_type": "execute_result"
    }
   ],
   "source": [
    "Vector([1, 2, 3]) * Vector([4, 3, 7])"
   ]
  },
  {
   "cell_type": "code",
   "execution_count": 241,
   "id": "76135084",
   "metadata": {
    "scrolled": true
   },
   "outputs": [
    {
     "data": {
      "text/plain": [
       "Vector([5, 10, 15])"
      ]
     },
     "execution_count": 241,
     "metadata": {},
     "output_type": "execute_result"
    }
   ],
   "source": [
    "Vector([1, 2, 3])*5"
   ]
  },
  {
   "cell_type": "code",
   "execution_count": 280,
   "id": "02586940",
   "metadata": {},
   "outputs": [],
   "source": [
    "#Задание 11\n",
    "class Vector:\n",
    "    def __init__(self, coords):\n",
    "        self.coords = coords\n",
    "    \n",
    "    def __add__(self, other):\n",
    "        if len(self.coords) == len(other.coords):\n",
    "            summ = list()\n",
    "            for i in range(0, len(self.coords)):\n",
    "                summ.append(self.coords[i] + other.coords[i])\n",
    "            return Vector(summ)\n",
    "        else:\n",
    "            raise ValueError(f'left and right lengths differ: {len(self.coords)} != {len(other.coords)}')\n",
    "            \n",
    "    def __mul__(self, other):\n",
    "        mult = list()\n",
    "        \n",
    "        if isinstance(other, int):\n",
    "            for i in range(0, len(self.coords)):\n",
    "                mult.append(self.coords[i]*other)\n",
    "            return Vector(mult)\n",
    "        \n",
    "        if len(self.coords) == len(other.coords):\n",
    "            for i in range(0, len(self.coords)):\n",
    "                mult.append(self.coords[i]*other.coords[i])\n",
    "            return sum(mult)\n",
    "        else:\n",
    "            raise ValueError(f'left and right lengths differ: {len(self.coords)} != {len(other.coords)}')\n",
    "            \n",
    "    def __abs__(self):\n",
    "        abs_l = list()\n",
    "        for i in range(0, len(self.coords)-1):\n",
    "            abs_l.append(((self.coords[i])**2 + (self.coords[i+1])**2)**(1/2))\n",
    "        return sum(abs_l)\n",
    "    \n",
    "    def __eq__(self, other):\n",
    "        if self.coords == other.coords:\n",
    "            return True\n",
    "        else:\n",
    "            return False\n",
    "    \n",
    "    def __repr__(self): \n",
    "        return f'Vector({self.coords})'\n",
    "    \n",
    "    def __str__(self): \n",
    "        return f'{self.coords}'"
   ]
  },
  {
   "cell_type": "code",
   "execution_count": 261,
   "id": "9f3c45a6",
   "metadata": {},
   "outputs": [
    {
     "data": {
      "text/plain": [
       "13.0"
      ]
     },
     "execution_count": 261,
     "metadata": {},
     "output_type": "execute_result"
    }
   ],
   "source": [
    "abs(Vector([-12, 5]))"
   ]
  },
  {
   "cell_type": "code",
   "execution_count": 282,
   "id": "fca6ae87",
   "metadata": {},
   "outputs": [
    {
     "data": {
      "text/plain": [
       "False"
      ]
     },
     "execution_count": 282,
     "metadata": {},
     "output_type": "execute_result"
    }
   ],
   "source": [
    "Vector([1, 3, 5]) == Vector([1, 3, -5])"
   ]
  },
  {
   "cell_type": "code",
   "execution_count": 286,
   "id": "a0671d4c",
   "metadata": {},
   "outputs": [
    {
     "ename": "SyntaxError",
     "evalue": "invalid syntax (1936335849.py, line 3)",
     "output_type": "error",
     "traceback": [
      "\u001b[1;36m  Cell \u001b[1;32mIn[286], line 3\u001b[1;36m\u001b[0m\n\u001b[1;33m    return self.request{'cookies'}\u001b[0m\n\u001b[1;37m                       ^\u001b[0m\n\u001b[1;31mSyntaxError\u001b[0m\u001b[1;31m:\u001b[0m invalid syntax\n"
     ]
    }
   ],
   "source": [
    "class ParsesCookies:\n",
    "    def cookies(self, request):\n",
    "        return self.request{'cookies'}\n",
    "    def is_authed(self, request):\n",
    "        if 'auth_key' in self.request{'cookies'}:\n",
    "            return True\n",
    "        else:\n",
    "            return False\n",
    "        \n",
    "class ParsesBody:\n",
    "    def body(self, request):\n",
    "        return self.request{'body'}\n",
    "    \n",
    "class ParsesHeaders:\n",
    "    def headers(self, request):\n",
    "        return self.request{'headers'}\n",
    "    def need_json():\n",
    "        if 'application/json' == self.request{'headers'}.get('content-type'):\n",
    "            return True\n",
    "        else:\n",
    "            return False"
   ]
  },
  {
   "cell_type": "code",
   "execution_count": 295,
   "id": "94ba26bb",
   "metadata": {},
   "outputs": [],
   "source": [
    "# Задание 12\n",
    "class ParsesCookies:\n",
    "    def cookies(self):\n",
    "        return self.request['cookies']\n",
    "    def is_authed(self):\n",
    "        if 'auth_key' in self.request['cookies']:\n",
    "            return True\n",
    "        else:\n",
    "            return False\n",
    "        \n",
    "class ParsesBody:\n",
    "    def body(self):\n",
    "        return self.request['body']\n",
    "    \n",
    "class ParsesHeaders:\n",
    "    def headers(self):\n",
    "        return self.request['headers']\n",
    "    def need_json(self):\n",
    "        if 'application/json' == self.request['headers'].get('content-type'):\n",
    "            return True\n",
    "        else:\n",
    "            return False\n",
    "        \n",
    "class Handler(ParsesCookies, ParsesBody, ParsesHeaders):\n",
    "    def __init__(self, request):\n",
    "        self.request = request"
   ]
  },
  {
   "cell_type": "code",
   "execution_count": 300,
   "id": "fc8a5401",
   "metadata": {},
   "outputs": [
    {
     "data": {
      "text/plain": [
       "False"
      ]
     },
     "execution_count": 300,
     "metadata": {},
     "output_type": "execute_result"
    }
   ],
   "source": [
    "# будет приходить запрос в виде словаря\n",
    "request = {\n",
    "  \"cookies\": {\"key_1\": 1, \"key_2\": 2},\n",
    "  \"body\": \"a long time ago, in a Galaxy far, far away\",\n",
    "  \"headers\": {\"content-type\": \"application/json\", \"Accept\": \"application/json\"}\n",
    "}\n",
    "\n",
    "# и этот словарь будет передаваться в конструктор класса\n",
    "handler = Handler(request)\n",
    "handler.is_authed()"
   ]
  },
  {
   "cell_type": "code",
   "execution_count": null,
   "id": "44dc1efb",
   "metadata": {},
   "outputs": [],
   "source": [
    "#Задание 13\n",
    "class ParsesCookies:\n",
    "    def cookies(self):\n",
    "        return self.request['cookies']\n",
    "    def is_authed(self):\n",
    "        if 'auth_key' in self.request['cookies']:\n",
    "            return True\n",
    "        else:\n",
    "            return False\n",
    "        \n",
    "class ParsesBody:\n",
    "    def body(self):\n",
    "        return self.request['body']\n",
    "    \n",
    "class ParsesHeaders:\n",
    "    def headers(self):\n",
    "        return self.request['headers']\n",
    "    def need_json(self):\n",
    "        if 'application/json' == self.request['headers'].get('content-type'):\n",
    "            return True\n",
    "        else:\n",
    "            return False\n",
    "        \n",
    "class Handler(ParsesCookies, ParsesBody, ParsesHeaders):\n",
    "    def __init__(self, request):\n",
    "        self.request = request\n",
    "        \n",
    "class JsonHandler(ParsesBody, ParsesHeaders):\n",
    "    def process(self):\n",
    "        body_d = {}\n",
    "        if self.need_json() == False:\n",
    "            return None\n",
    "        body_content = self.body()\n",
    "        try:\n",
    "            body_d = json.loads(body_content)\n",
    "            return len(body_d)\n",
    "        except json.JSONDecodeError:\n",
    "            return None\n",
    "            \n",
    "    def __init__(self, request):\n",
    "        self.request = request"
   ]
  },
  {
   "cell_type": "code",
   "execution_count": 311,
   "id": "7e1523d8",
   "metadata": {},
   "outputs": [],
   "source": [
    "import json"
   ]
  },
  {
   "cell_type": "code",
   "execution_count": 333,
   "id": "51d3a53e",
   "metadata": {},
   "outputs": [
    {
     "name": "stdout",
     "output_type": "stream",
     "text": [
      "2\n"
     ]
    }
   ],
   "source": [
    "# Пример использования\n",
    "r = {'body': '{\"a\": 123, \"b\": 1234}',\n",
    "     'headers': {'content-type': 'application/json'}\n",
    "    }\n",
    "print(JsonHandler(r).process())"
   ]
  },
  {
   "cell_type": "code",
   "execution_count": 336,
   "id": "7c745cb4",
   "metadata": {},
   "outputs": [],
   "source": [
    "# Задание 14\n",
    "class SecureTextHandler(ParsesBody, ParsesCookies):\n",
    "    def process(self):\n",
    "        if self.is_authed() == False:\n",
    "            return None\n",
    "        else:\n",
    "            return len(self.body())\n",
    "        \n",
    "    def __init__(self, request):\n",
    "        self.request = request"
   ]
  },
  {
   "cell_type": "code",
   "execution_count": 337,
   "id": "71bdb01d",
   "metadata": {},
   "outputs": [
    {
     "name": "stdout",
     "output_type": "stream",
     "text": [
      "5\n",
      "None\n"
     ]
    }
   ],
   "source": [
    "# Примеры\n",
    "r = {'cookies': {'auth_key': '123'},\n",
    "     'body': 'hello'\n",
    "    }\n",
    "print(SecureTextHandler(r).process())\n",
    "# 5\n",
    "\n",
    "r = {'cookies': {},\n",
    "     'body': 'hello'\n",
    "    }\n",
    "print(SecureTextHandler(r).process())\n",
    "# None"
   ]
  }
 ],
 "metadata": {
  "kernelspec": {
   "display_name": "Python 3 (ipykernel)",
   "language": "python",
   "name": "python3"
  },
  "language_info": {
   "codemirror_mode": {
    "name": "ipython",
    "version": 3
   },
   "file_extension": ".py",
   "mimetype": "text/x-python",
   "name": "python",
   "nbconvert_exporter": "python",
   "pygments_lexer": "ipython3",
   "version": "3.11.5"
  }
 },
 "nbformat": 4,
 "nbformat_minor": 5
}
